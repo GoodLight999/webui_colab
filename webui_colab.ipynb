{
  "cells": [
    {
      "cell_type": "markdown",
      "metadata": {
        "id": "view-in-github",
        "colab_type": "text"
      },
      "source": [
        "<a href=\"https://colab.research.google.com/github/GoodLight999/webui_colab/blob/main/webui_colab.ipynb\" target=\"_parent\"><img src=\"https://colab.research.google.com/assets/colab-badge.svg\" alt=\"Open In Colab\"/></a>"
      ]
    },
    {
      "cell_type": "markdown",
      "source": [
        "・このノートは、camenduru氏の配布しているipynbを参考にして作られています。</br>\n",
        "https://github.com/camenduru/stable-diffusion-webui-colab</br>\n",
        "</br>\n",
        "・権利者に無断で、画像生成AIにイラストを学習させる行為は、日本の著作権法30条の4第2号に則って完全に**合法**です。また、拡散モデルによる画像生成は、ニューラルネットを用いたノイズ除去が元になっており、**イラストのコラージュからは程遠い手法**です。しかしそれはそれとして**不快に思うイラストレーター**は居ます。</br>\n",
        "また、そういった一部の人の気持ちを気にしなくとも、現在のアニメ調イラスト生成モデルには、NovelAIから**不正流出したデータを元に作られている限りなく黒に近いモデルが氾濫しているという非常に大きな問題**があります。</br>\n",
        "加えてanbooruという英語による丁寧なタグ付けがなされた**イラスト転載サイトを学習元に使っているモデルも多い**です。法的にはクリーンなWaifu Diffusion もこの問題からは逃れられません。</br>\n",
        "danbooru自体は、転載元をしっかり掲載したうえで画像を詳細にタグ付けしている非営利のサイトで、米国法で無断転載が合法となる**フェアユース**規定(Google画像検索も無断転載を検索結果に表示しているがそれが合法な理由)に則ろうとしている(比較的)誠実な転載サイトではあります。でも、無断であることに不快感を覚えるイラストレーターが居るのは事実。</br>\n",
        "こういったことを念頭に置いて、画像を生成しましょう。</br>\n",
        "</br>\n",
        "・たぶん、</br>\n",
        "**編集　→ノートブックの設定　→ハードウェア アクセラレータ　→GPU**</br>\n",
        "と設定したあと</br>\n",
        "**ランタイム　→全てのセルを実行**</br>\n",
        "を押すだけで動きます！</br>\n",
        "起動にはけっこう時間がかかります。8分近くかかるかも……</br>\n",
        "PC推奨です。処理はGoogleのサーバーを借りて行うので、一応スマホからでも動かせます。ちょっと使いにくいけどね。"
      ],
      "metadata": {
        "id": "f4jlfo-Qn9iM"
      }
    },
    {
      "cell_type": "code",
      "execution_count": null,
      "metadata": {
        "id": "SaAJk33ppFw1"
      },
      "outputs": [],
      "source": [
        "#@title 起動準備\n",
        "# aria2(超高速ダウンロードを並列化で実現する仕組み)を導入\n",
        "!apt-get -y install -qq aria2\n",
        "\n",
        "# xformers(画像生成高速化の仕組み)を準備\n",
        "import os\n",
        "from google.colab.output import eval_js\n",
        "os.environ['colab_url'] = eval_js(\"google.colab.kernel.proxyPort(7860, {'cache': false})\")\n",
        "\n",
        "!wget http://launchpadlibrarian.net/367274644/libgoogle-perftools-dev_2.5-2.2ubuntu3_amd64.deb\n",
        "!wget https://launchpad.net/ubuntu/+source/google-perftools/2.5-2.2ubuntu3/+build/14795286/+files/google-perftools_2.5-2.2ubuntu3_all.deb\n",
        "!wget https://launchpad.net/ubuntu/+source/google-perftools/2.5-2.2ubuntu3/+build/14795286/+files/libtcmalloc-minimal4_2.5-2.2ubuntu3_amd64.deb\n",
        "!wget https://launchpad.net/ubuntu/+source/google-perftools/2.5-2.2ubuntu3/+build/14795286/+files/libgoogle-perftools4_2.5-2.2ubuntu3_amd64.deb\n",
        "!apt install -qq libunwind8-dev\n",
        "!dpkg -i *.deb\n",
        "%env LD_PRELOAD=libtcmalloc.so\n",
        "!rm *.deb\n",
        "\n",
        "!pip install -q --pre xformers\n",
        "!pip install -q --pre triton"
      ]
    },
    {
      "cell_type": "code",
      "source": [
        "#@title webuiの準備\n",
        "# webuiを連れてくる\n",
        "!git clone -b v2.0 https://github.com/camenduru/stable-diffusion-webui\n",
        "\n",
        "!wget https://raw.githubusercontent.com/camenduru/stable-diffusion-webui-scripts/main/run_n_times.py -O /content/stable-diffusion-webui/scripts/run_n_times.py"
      ],
      "metadata": {
        "id": "iG5RVHV6kfo-"
      },
      "execution_count": null,
      "outputs": []
    },
    {
      "cell_type": "code",
      "source": [
        "#@title webui向けの拡張機能・追加ファイルの導入\n",
        "# image briwser\n",
        "!git clone https://github.com/AlUlkesh/stable-diffusion-webui-images-browser /content/stable-diffusion-webui/extensions/stable-diffusion-webui-images-browser\n",
        "# civitai browser\n",
        "!git clone https://github.com/camenduru/sd-civitai-browser /content/stable-diffusion-webui/extensions/sd-civitai-browser\n",
        "# additional networks(for LoRA)\n",
        "!git clone https://github.com/kohya-ss/sd-webui-additional-networks /content/stable-diffusion-webui/extensions/sd-webui-additional-networks\n",
        "# tag complete\n",
        "!git clone https://github.com/DominikDoom/a1111-sd-webui-tagcomplete /content/stable-diffusion-webui/extensions/a1111-sd-webui-tagcomplete\n",
        "# aspect ratio selector\n",
        "!git clone https://github.com/alemelis/sd-webui-ar /content/stable-diffusion-webui/extensions/sd-webui-ar\n",
        "# ControlNet\n",
        "!git clone https://github.com/Mikubill/sd-webui-controlnet.git /content/stable-diffusion-webui/extensions/sd-webui-controlnet\n",
        "# Openpose editor (for ControlNet)\n",
        "!git clone https://github.com/fkunn1326/openpose-editor.git /content/stable-diffusion-webui/extensions/openpose-editor\n",
        "# 日本語化\n",
        "# !git clone  https://github.com/Katsuyuki-Karasawa/stable-diffusion-webui-localization-ja_JP /content/stable-diffusion-webui/extensions/stable-diffusion-webui-localization-ja_JP\n",
        "\n",
        "# EasyNegative\n",
        "!wget -P /content/stable-diffusion-webui/embeddings https://huggingface.co/datasets/gsdf/EasyNegative/resolve/main/EasyNegative.safetensors\n",
        "# EasyNegative\n",
        "!wget -P /content/stable-diffusion-webui/embeddings https://huggingface.co/datasets/gsdf/EasyNegative/resolve/main/EasyNegative.pt\n",
        "# bad_prompt_version2.pt\n",
        "!wget -P /content/stable-diffusion-webui/embeddings https://huggingface.co/datasets/Nerfgun3/bad_prompt/resolve/main/bad_prompt_version2.pt\n",
        "# wdbadprompt.pt\n",
        "!wget -P /content/stable-diffusion-webui/embeddings https://huggingface.co/waifu-diffusion/wd-1-5-beta/resolve/main/embeddings/wdbadprompt.pt\n",
        "# wdgoodprompt.bin\n",
        "!wget -P /content/stable-diffusion-webui/embeddings https://huggingface.co/waifu-diffusion/wd-1-5-beta/resolve/main/embeddings/wdgoodprompt.bin\n",
        "\n",
        "\n",
        "# 生成完了時に通知音を鳴らすようにする\n",
        "!wget https://otologic.jp/sounds/se/pre/Accent03-1.mp3 -O /content/stable-diffusion-webui/notification.mp3\n",
        "\n",
        "# ディレクトリを移動\n",
        "%cd /content/stable-diffusion-webui\n",
        "\n",
        "!git reset --hard"
      ],
      "metadata": {
        "id": "l_AxgumIksCK"
      },
      "execution_count": null,
      "outputs": []
    },
    {
      "cell_type": "code",
      "source": [
        "#@title  modelとVAEのダウンロード\n",
        "# Stable Diffusion\n",
        "!aria2c --console-log-level=error -c -x 16 -s 16 -k 1M https://huggingface.co/ckpt/stable-diffusion-2-1/resolve/main/v2-1_768-ema-pruned.ckpt -d /content/stable-diffusion-webui/models/Stable-diffusion -o v2-1_768-ema-pruned.ckpt\n",
        "!aria2c --console-log-level=error -c -x 16 -s 16 -k 1M https://huggingface.co/ckpt/stable-diffusion-2-1/raw/main/v2-inference-v.yaml -d /content/stable-diffusion-webui/models/Stable-diffusion -o v2-1_768-ema-pruned.yaml\n",
        "!aria2c --console-log-level=error -c -x 16 -s 16 -k 1M https://huggingface.co/joachimsallstrom/Double-Exposure-Embedding/resolve/main/dblx.pt -d /content/stable-diffusion-webui/embeddings -o dblx.pt\n",
        "!aria2c --console-log-level=error -c -x 16 -s 16 -k 1M https://huggingface.co/Conflictx/AnimeScreencap/resolve/main/AnimeScreenCap.pt -d /content/stable-diffusion-webui/embeddings -o AnimeScreenCap.pt\n",
        "\n",
        "# AbyssOrangeMix2\n",
        "!aria2c --console-log-level=error -c -x 16 -s 16 -k 1M https://huggingface.co/WarriorMama777/OrangeMixs/resolve/main/Models/AbyssOrangeMix2/AbyssOrangeMix2_hard.safetensors -d /content/stable-diffusion-webui/models/Stable-diffusion -o AbyssOrangeMix2_hard.safetensors\n",
        "# AbyssOrangeMix3\n",
        "!aria2c --console-log-level=error -c -x 16 -s 16 -k 1M https://huggingface.co/WarriorMama777/OrangeMixs/resolve/main/Models/AbyssOrangeMix3/AOM3_orangemixs.safetensors -d /content/stable-diffusion-webui/models/Stable-diffusion -o AOM3.safetensors\n",
        "!aria2c --console-log-level=error -c -x 16 -s 16 -k 1M https://huggingface.co/WarriorMama777/OrangeMixs/resolve/main/Models/AbyssOrangeMix3/AOM3A1_orangemixs.safetensors -d /content/stable-diffusion-webui/models/Stable-diffusion -o AOM3A1_Flat,animelike.safetensors\n",
        "!aria2c --console-log-level=error -c -x 16 -s 16 -k 1M https://huggingface.co/WarriorMama777/OrangeMixs/resolve/main/Models/AbyssOrangeMix3/AOM3A1B_orangemixs.safetensors -d /content/stable-diffusion-webui/models/Stable-diffusion -o AOM3A1B_illustration_between_A1andA3.safetensors\n",
        "!aria2c --console-log-level=error -c -x 16 -s 16 -k 1M https://huggingface.co/WarriorMama777/OrangeMixs/resolve/main/Models/AbyssOrangeMix3/AOM3A2_orangemixs.safetensors -d /content/stable-diffusion-webui/models/Stable-diffusion -o AOM3A2_Artistic,Oil_paintings_like.safetensors\n",
        "!aria2c --console-log-level=error -c -x 16 -s 16 -k 1M https://huggingface.co/WarriorMama777/OrangeMixs/resolve/main/Models/AbyssOrangeMix3/AOM3A3_orangemixs.safetensors -d /content/stable-diffusion-webui/models/Stable-diffusion -o AOM3A3_Midpoint_of_Artistic_and_Kawaii.safetensors\n",
        "# AbyssOrangeMix用VAE\n",
        "!aria2c --console-log-level=error -c -x 16 -s 16 -k 1M https://huggingface.co/WarriorMama777/OrangeMixs/resolve/main/VAEs/orangemix.vae.pt -d /content/stable-diffusion-webui/models/VAE -o OrangeMix.vae.pt\n",
        "\n",
        "# Counterfeit-V2.5\n",
        "!aria2c --console-log-level=error -c -x 16 -s 16 -k 1M https://huggingface.co/gsdf/Counterfeit-V2.5/resolve/main/Counterfeit-V2.5_fp16.safetensors -d /content/stable-diffusion-webui/models/Stable-diffusion -o Counterfeit-V2.5.safetensors\n",
        "!aria2c --console-log-level=error -c -x 16 -s 16 -k 1M https://huggingface.co/gsdf/Counterfeit-V2.5/resolve/main/Counterfeit-V2.5.vae.pt -d /content/stable-diffusion-webui/models/VAE -o Counterfeit-V2.5.vae.pt\n",
        "\n",
        "# Grapefruit\n",
        "# !aria2c --console-log-level=error -c -x 16 -s 16 -k 1M https://civitai.com/api/download/models/9000 -d /content/stable-diffusion-webui/models/Stable-diffusion -o grapefruitHentaiModel_VAE_not_required.safetensors\n",
        "\n",
        "# Pastel-Mix\n",
        "!aria2c --console-log-level=error -c -x 16 -s 16 -k 1M https://huggingface.co/andite/pastel-mix/resolve/main/pastelmix-fp16.safetensors -d /content/stable-diffusion-webui/models/Stable-diffusion -o pastelmix-fp16.safetensors\n",
        "!aria2c --console-log-level=error -c -x 16 -s 16 -k 1M https://huggingface.co/andite/pastel-mix/resolve/main/pastel-waifu-diffusion.vae.pt -d /content/stable-diffusion-webui/models/VAE -o pastelmix-fp16.vae.pt\n",
        "\n",
        "# SukiyakiMix\n",
        "!aria2c --console-log-level=error -c -x 16 -s 16 -k 1M https://huggingface.co/Vsukiyaki/SukiyakiMix-v1.0/resolve/main/SukiyakiMix-v1.0-fp16.safetensors -d /content/stable-diffusion-webui/models/Stable-diffusion -o SukiyakiMix-fp16.safetensors\n",
        "!aria2c --console-log-level=error -c -x 16 -s 16 -k 1M https://huggingface.co/WarriorMama777/OrangeMixs/resolve/main/VAEs/orangemix.vae.pt -d /content/stable-diffusion-webui/models/VAE -o SukiyakiMix-fp16.vae.pt\n",
        "\n",
        "# 7th_Layer\n",
        "!aria2c --console-log-level=error -c -x 16 -s 16 -k 1M https://huggingface.co/syaimu/7th_Layer/resolve/main/7th_anime_v3/7th_anime_v3_B.safetensors -d /content/stable-diffusion-webui/models/Stable-diffusion -o 7th_anime_v3_B.safetensors\n",
        "\n",
        "# Waifu Diffusion \n",
        "# !aria2c --console-log-level=error -c -x 16 -s 16 -k 1M https://huggingface.co/waifu-diffusion/wd-1-5-beta2/resolve/main/checkpoints/wd-1-5-beta2-fp16.safetensors -d /content/stable-diffusion-webui/models/Stable-diffusion -o wd15-beta1-fp16.safetensors\n",
        "# !wget https://huggingface.co/waifu-diffusion/wd-1-5-beta2/resolve/main/checkpoints/wd-1-5-beta2-fp16.yaml -O /content/stable-diffusion-webui/models/Stable-diffusionwd15-beta1-fp16.yaml.mp3\n",
        "!aria2c --console-log-level=error -c -x 16 -s 16 -k 1M https://huggingface.co/hakurei/waifu-diffusion-v1-4/resolve/main/vae/kl-f8-anime2.ckpt -d /content/stable-diffusion-webui/models/Stable-diffusion -o kl-f8-anime2.vae.pt"
      ],
      "metadata": {
        "id": "8lcMqrlElELl"
      },
      "execution_count": null,
      "outputs": []
    },
    {
      "cell_type": "code",
      "source": [
        "#@title LoRAやControlNetもダウンロード\n",
        "\n",
        "# Honkai Impact 3-真理之律者/Herrscher of Truth\n",
        "!aria2c --console-log-level=error -c -x 16 -s 16 -k 1M https://civitai.com/api/download/models/10757 -d /content/stable-diffusion-webui/extensions/sd-webui-additional-networks/models/lora -o honkaiImpact3Herrscher.safetensors\n",
        "# LightningVFX - Create more consistent Lightning\n",
        "!aria2c --console-log-level=error -c -x 16 -s 16 -k 1M https://civitai.com/api/download/models/12144 -d /content/stable-diffusion-webui/extensions/sd-webui-additional-networks/models/lora -o LightningVFX.safetensors\n",
        "# Bondage Suspension\n",
        "!aria2c --console-log-level=error -c -x 16 -s 16 -k 1M https://civitai.com/api/download/models/10347 -d /content/stable-diffusion-webui/extensions/sd-webui-additional-networks/models/lora -o Bondage_Suspension.safetensors\n",
        "# Milking machine\n",
        "!aria2c --console-log-level=error -c -x 16 -s 16 -k 1M https://civitai.com/api/download/models/10069 -d /content/stable-diffusion-webui/extensions/sd-webui-additional-networks/models/lora -o Milking_machine.safetensors\n",
        "# Manhattan Cafe (umamusume)\n",
        "!aria2c --console-log-level=error -c -x 16 -s 16 -k 1M https://civitai.com/api/download/models/8935 -d /content/stable-diffusion-webui/extensions/sd-webui-additional-networks/models/lora -o Manhattan_Cafe.safetensors\n",
        "# Vibrator\n",
        "!aria2c --console-log-level=error -c -x 16 -s 16 -k 1M https://civitai.com/api/download/models/12843 -d /content/stable-diffusion-webui/extensions/sd-webui-additional-networks/models/lora -o Vibrator.safetensors\n",
        "# Esthetic Futanari + Trap\n",
        "!aria2c --console-log-level=error -c -x 16 -s 16 -k 1M https://huggingface.co/OneRing/TP3.7.safetensors/resolve/main/TP3.7.safetensors -d /content/stable-diffusion-webui/extensions/sd-webui-additional-networks/models/lora -o Futanari_Trap.safetensors\n",
        "# Silence Suzuka (umamusume)\n",
        "!aria2c --console-log-level=error -c -x 16 -s 16 -k 1M https://civitai.com/api/download/models/13513 -d /content/stable-diffusion-webui/extensions/sd-webui-additional-networks/models/lora -o Silence_Suzuka.safetensors\n",
        "\n",
        "# ControlNetが使えるように、ファイルをダウンロード\n",
        "!aria2c --console-log-level=error -c -x 16 -s 16 -k 1M https://huggingface.co/webui/ControlNet-modules-safetensors/resolve/main/control_canny-fp16.safetensors -d /content/stable-diffusion-webui/extensions/sd-webui-controlnet/models -o control_canny-fp16.safetensors\n",
        "!aria2c --console-log-level=error -c -x 16 -s 16 -k 1M https://huggingface.co/webui/ControlNet-modules-safetensors/resolve/main/control_depth-fp16.safetensors -d /content/stable-diffusion-webui/extensions/sd-webui-controlnet/models -o control_depth-fp16.safetensors\n",
        "!aria2c --console-log-level=error -c -x 16 -s 16 -k 1M https://huggingface.co/webui/ControlNet-modules-safetensors/resolve/main/control_hed-fp16.safetensors -d /content/stable-diffusion-webui/extensions/sd-webui-controlnet/models -o control_hed-fp16.safetensors\n",
        "!aria2c --console-log-level=error -c -x 16 -s 16 -k 1M https://huggingface.co/webui/ControlNet-modules-safetensors/resolve/main/control_mlsd-fp16.safetensors -d /content/stable-diffusion-webui/extensions/sd-webui-controlnet/models -o control_mlsd-fp16.safetensors\n",
        "!aria2c --console-log-level=error -c -x 16 -s 16 -k 1M https://huggingface.co/webui/ControlNet-modules-safetensors/resolve/main/control_normal-fp16.safetensors -d /content/stable-diffusion-webui/extensions/sd-webui-controlnet/models -o control_normal-fp16.safetensors\n",
        "!aria2c --console-log-level=error -c -x 16 -s 16 -k 1M https://huggingface.co/webui/ControlNet-modules-safetensors/resolve/main/control_openpose-fp16.safetensors -d /content/stable-diffusion-webui/extensions/sd-webui-controlnet/models -o control_openpose-fp16.safetensors\n",
        "!aria2c --console-log-level=error -c -x 16 -s 16 -k 1M https://huggingface.co/webui/ControlNet-modules-safetensors/resolve/main/control_scribble-fp16.safetensors -d /content/stable-diffusion-webui/extensions/sd-webui-controlnet/models -o control_scribble-fp16.safetensors\n",
        "!aria2c --console-log-level=error -c -x 16 -s 16 -k 1M https://huggingface.co/webui/ControlNet-modules-safetensors/resolve/main/control_seg-fp16.safetensors -d /content/stable-diffusion-webui/extensions/sd-webui-controlnet/models -o control_seg-fp16.safetensors\n",
        "!aria2c --console-log-level=error -c -x 16 -s 16 -k 1M https://huggingface.co/ckpt/ControlNet/resolve/main/hand_pose_model.pth -d /content/stable-diffusion-webui/extensions/sd-webui-controlnet/annotator/openpose -o hand_pose_model.pth\n",
        "!aria2c --console-log-level=error -c -x 16 -s 16 -k 1M https://huggingface.co/ckpt/ControlNet/resolve/main/body_pose_model.pth -d /content/stable-diffusion-webui/extensions/sd-webui-controlnet/annotator/openpose -o body_pose_model.pth\n",
        "!aria2c --console-log-level=error -c -x 16 -s 16 -k 1M https://huggingface.co/ckpt/ControlNet/resolve/main/dpt_hybrid-midas-501f0c75.pt -d /content/stable-diffusion-webui/extensions/sd-webui-controlnet/annotator/midas -o dpt_hybrid-midas-501f0c75.pt\n",
        "!aria2c --console-log-level=error -c -x 16 -s 16 -k 1M https://huggingface.co/ckpt/ControlNet/resolve/main/mlsd_large_512_fp32.pth -d /content/stable-diffusion-webui/extensions/sd-webui-controlnet/annotator/mlsd -o mlsd_large_512_fp32.pth\n",
        "!aria2c --console-log-level=error -c -x 16 -s 16 -k 1M https://huggingface.co/ckpt/ControlNet/resolve/main/mlsd_tiny_512_fp32.pth -d /content/stable-diffusion-webui/extensions/sd-webui-controlnet/annotator/mlsd -o mlsd_tiny_512_fp32.pth\n",
        "!aria2c --console-log-level=error -c -x 16 -s 16 -k 1M https://huggingface.co/ckpt/ControlNet/resolve/main/network-bsds500.pth -d /content/stable-diffusion-webui/extensions/sd-webui-controlnet/annotator/hed -o network-bsds500.pth\n",
        "!aria2c --console-log-level=error -c -x 16 -s 16 -k 1M https://huggingface.co/ckpt/ControlNet/resolve/main/upernet_global_small.pth -d /content/stable-diffusion-webui/extensions/sd-webui-controlnet/annotator/uniformer -o upernet_global_small.pth"
      ],
      "metadata": {
        "id": "wRwDi5yKl6Hp"
      },
      "execution_count": null,
      "outputs": []
    },
    {
      "cell_type": "code",
      "source": [
        "#@title  起動！</br>(辛抱強く5分位待つと、https://?????.gradio.liveみたいなリンクが表示されるので、それをクリックして下さい。)</br>(閉じるときは、ランタイム→ランタイムを接続解除して削除。)\n",
        "!sed -i -e '''/prepare_environment()/a\\    os.system\\(f\\\"\"\"sed -i -e ''\\\"s/dict()))/dict())).cuda()/g\\\"'' /content/stable-diffusion-webui/repositories/stable-diffusion-stability-ai/ldm/util.py\"\"\")''' /content/stable-diffusion-webui/launch.py\n",
        "\n",
        "# 設定を予め変更する\n",
        "import json\n",
        "config = {\n",
        "    \"CLIP_stop_at_last_layers\": 2,\n",
        "    \"quicksettings\": \"sd_model_checkpoint,sd_vae,CLIP_stop_at_last_layers\"\n",
        "}\n",
        "with open(\"config.json\", \"w\") as f:\n",
        "    json.dump(config, f)\n",
        "\n",
        "# 起動！！！ --no-half-vae\n",
        "!python launch.py --share --xformers --no-half-vae --enable-insecure-extension-access --gradio-queue"
      ],
      "metadata": {
        "id": "3mqUetLEloww"
      },
      "execution_count": null,
      "outputs": []
    },
    {
      "cell_type": "markdown",
      "source": [
        "# **日本語化について**\n",
        "webuiは頻繁に機能が追加・更新されるので、それに追いつけてない不完全な日本語化パッチを当てるより英語のままのほうがググりやすくて便利な気がします。</br>\n",
        "よって日本語化をしていません。ご容赦ください。</br>\n",
        "「webui向けの拡張機能・追加ファイルの導入」に、日本語化パッチのインストール準備自体はしてあるので、コメントアウトのための#を消してインストールすれば、簡単に日本語化出来ます。\n",
        "\n",
        "---"
      ],
      "metadata": {
        "id": "e-LVQtC_bmVV"
      }
    },
    {
      "cell_type": "markdown",
      "source": [
        "# **VAEとは**</br>\n",
        "主に塗りに影響を与える、調整ファイル。</br>\n",
        "これが不適切だと変に淡い塗りの画像が出力される。</br>\n",
        "一応、AbyssOrangeMix以外は、設定をしなくても上手く動くようにしてあるはず。\n",
        "\n",
        "---"
      ],
      "metadata": {
        "id": "pYN3RbwWiPaQ"
      }
    },
    {
      "cell_type": "markdown",
      "source": [
        "# **導入モデルの簡易紹介**</br>\n",
        "モデルの配布リンク先を見れば、プロンプトや使用Samplerが載ってる作例が見れるので、見てみてね。</br></br>\n",
        "**Stable Diffusion**</br>\n",
        "最も有名な画像生成AIの1つにして、様々な画像生成AIの大本になっている、Stable Diffusionの最新版モデル。</br>\n",
        "リアル画像に強く、アニメ調イラストは弱い。。</br>\n",
        "プロンプトの書き方が、以下に記されているアニメ調イラストの生成に特化したモデルたちと違うので注意が必要。</br>\n",
        "解説サイト↓</br>\n",
        "https://webbigdata.jp/post-14827/</br>\n",
        "</br>\n",
        "**AbyssOrangeMix**：流行ってるモデル。AOM3系が最新。</br>\n",
        "ややAI臭いが美麗。</br>\n",
        "R-18も可能。</br>\n",
        "(このモデルだけ、VAEを自分で選択してもらう必要があるから、注意!)</br>\n",
        "推奨Negative：(worst quality, low quality:1.4), (realistic, lip, nose, tooth, rouge, lipstick, eyeshadow:1.0), (dusty sunbeams:1.0),, (abs, muscular, rib:1.0), (depth of field, bokeh, blurry:1.4), (greyscale, monochrome:1.0), text, title, logo, signature</br>\n",
        "推奨Sampler：DPM++ SDE Karras</br>\n",
        "https://huggingface.co/WarriorMama777/OrangeMixs</br>\n",
        "</br>\n",
        "**Counterfeit**-V2.5：崩れづらい分使い手の個性を出しづらい。</br>\n",
        "でも、キャラクターの顔が非常に崩れにくく、衣装や小物から背景まで、全てを上手に出力してくれる。</br>\n",
        "個人的には、イラスト風味の背景を描くのはこのモデルが一番上手だと思う。</br>\n",
        "R-18は一応は可能。</br>\n",
        "推奨Negative：EasyNegative, (worst quality, low quality:1.4)</br>\n",
        "推奨Sampler: DPM++ 2M Karras</br>\n",
        "推奨CFG Scale：10 ←デフォの7より高めるとパキっと濃くなる</br>\n",
        "https://huggingface.co/gsdf/Counterfeit-V2.5</br>\n",
        "</br>\n",
        "**Grapefruit**：エロ方向に先鋭化している。顔のAI臭さは強いが、スケベプロンプトの制御が効きやすい。</br>\n",
        "リンク先にはR-18画像がバンバンあるので注意。</br>\n",
        "(VAE不要！)</br>\n",
        "推奨Sampler：DDIM, DPM++ SDE Karras</br>\n",
        "https://civitai.com/models/2583/grapefruit-hentai-model</br>\n",
        "</br>\n",
        "**Pastel-Mix**：パステルカラーの独特なイラストを生成できる。AI臭さが非常に低い、個性派モデル。</br>\n",
        "R-18は厳しいけど、このモデルにそんなことを期待するのもどうかと思う。</br>\n",
        "推奨Sampler：DPM++ 2M Karras</br>\n",
        "https://civitai.com/models/5414/pastel-mix-stylized-anime-model</br>\n",
        "</br>\n",
        "**SukiyakiMix**：Pstel-MixとAbyssOrangeMixを6:4でマージしただけのモデル。単純だけど、それだけに使い勝手が良い。</br>\n",
        "推奨Negative：Negative:\n",
        "(low quality, worst quality)1.4, (bad anatomy)+, (inaccurate limb)1.3,bad composition, inaccurate eyes, extra digit,fewer digits,(extra arms)1.2,logo,text</br>\n",
        "https://huggingface.co/Vsukiyaki/SukiyakiMix-v1.0</br>\n",
        "</br>\n",
        "**Waifu Diffusion**</br>\n",
        "法的にクリーンなモデル。現在最新は1.5beta。</br>\n",
        "正直なところ、他のモデルよりも良い絵を出すのが難しいが、不正流出モデルの派生なんぞが覇権を取り続ける状況は好ましくないから、応援したい。</br>\n",
        "\n",
        "\n",
        "---"
      ],
      "metadata": {
        "id": "aWs71gLH3ZUc"
      }
    },
    {
      "cell_type": "markdown",
      "source": [
        "# **プロンプト参考リンク**\n",
        "**・使いたいモデルの配布サイト**</br>\n",
        "作者が直々に看板として作った上手な作例が載ってるので、大いに参考にすべし。</br>\n",
        "</br>\n",
        "**・【NovelAI】 エロもいける！最強プロンプト（呪文）辞典**</br>\n",
        "**・【ローカル版】エロ特化！最強プロンプト（呪文）新辞典★無料公開版★**</br>\n",
        "この名前だけど、エロ目的じゃなくても非常に参考になる実践プロンプト集になっている。</br>\n",
        "https://iosworld.blog.2nt.com/blog-entry-528.html</br>\n",
        "https://iosworld.blog.2nt.com/blog-entry-558.html</br>\n",
        "</br>\n",
        "**・ちちぷい**</br>\n",
        "AIイラスト版のPixiv。投稿作の多くにモデルやプロンプト、サンプラーが載っているので、参考になる。</br>\n",
        "https://www.chichi-pui.com</br>\n",
        "</br>\n",
        "**・MajinAI**</br>\n",
        "AIイラスト投稿サイト2。こっちはイラスト生成者向けのプロンプト紹介サイト。</br>\n",
        "https://majinai.art/ja/index.php</br>\n",
        "</br>\n",
        "**・【随時更新】NovelAI/Waifu Diffusionを使う際に有用なサイト・リンク集(備忘録)**</br>\n",
        "更新頻度・速度ともに高いサイト。</br>\n",
        "https://economylife.net/links-for-novelai-waifu-diffusion/#gsc.tab=0\n",
        "\n",
        "\n",
        "---\n",
        "\n"
      ],
      "metadata": {
        "id": "dNAZu_-LcSg4"
      }
    },
    {
      "cell_type": "markdown",
      "source": [
        "# **プロンプトを組む上でのプチアドバイス**\n",
        "**・トークンの区切り**</br>\n",
        "Stable Diffusionは、一度に75トークンまでしか扱えないので、長いプロンプトを指示すると分割されて実行されます。</br>\n",
        "その際、プロンプトが断裂して（例えばsilver hairが、silverとhairに分けられて銀髪にならなくなって）しまったり、次の区切りの76トークン目が必要以上に強く影響したり、といった現象が発生します。</br>\n",
        "これを防ぐために「BREAK」というワードを使って強制的にプロンプトを区切ることができます。</br>\n",
        "　　例：1girl, silver hair, **BREAK**, hair ornament, ……</br>\n",
        "BREAK直後のタグは強めに影響することを意識すると、より意図した絵を出しやすくなります。</br>\n",
        "</br>\n",
        "**・惜しい絵が出たとき、その細部を変える**</br>\n",
        "Seedの隣りにあるExtraをチェックすると出てくる、VariationSeed・variation strengthの値をいじって再生成することで、その惜しい絵を微妙にズラすことが出来ます。\n",
        "「variation seed」に惜しかった絵のSeed値を入れ、どれくらいそこからズラすかをvariation strengthで決めます。\n",
        "0.1で様子見をして、強さを上下させて調整してみましょう。\n",
        "\n",
        "**・惜しい絵が出たとき、その一部を変える**\n",
        "出たイラストをSend to inpaint に送って、変更したい部分を黒塗りにして生成しましょう。</br>\n",
        "もしくは、画像をダウンロードして変更したい部分を雑に色塗りして直して、それをinpaintにアップロードして変更箇所を黒塗りにして、生成しましょう。\n",
        "\n",
        "---\n",
        "\n"
      ],
      "metadata": {
        "id": "fAuPoq3eVORW"
      }
    },
    {
      "cell_type": "markdown",
      "source": [
        "# **Textual Inversion</br>**\n",
        "わざと駄目なイラストを学習させたモデルをネガティブプロンプトから呼ぶことで、品質を向上させる技術があります。</br>\n",
        "このコードではEasyNegativeというものを導入済みなので、ネガティブプロンプトの欄に**EasyNegative**と打つだけで、**強力な品質向上**が狙えます。</br>\n",
        "Counterfeitというモデルの作者が作ったものなので、それと相性が良いです。デメリットとしては、ちょっと**リアル寄りの画風に引っ張られる節**もあります。</br>\n",
        "bad_prompt_version2というものも入れてあるので、これも使えますが、EasyNegativeよりも絵柄への影響が強いです。\n",
        "\n",
        "---\n",
        "\n"
      ],
      "metadata": {
        "id": "6Fu3CRkUS_fl"
      }
    },
    {
      "cell_type": "markdown",
      "source": [
        "# **ControlNet**\n",
        "話題のControlNetは導入済みなのですぐ使えます。</br>\n",
        "\n",
        "---\n",
        "\n"
      ],
      "metadata": {
        "id": "XsgqMJBr_0AT"
      }
    },
    {
      "cell_type": "markdown",
      "source": [
        "# **LoRA**</br>\n",
        "既存モデルに、なるべく低負荷で、画風やポーズ、特定キャラクターなどの追加要素を学ばせる仕組みとしてLoRAというものがあります。</br>\n",
        "試験的に、</br>\n",
        "・[崩壊3rdの真理の律者のデザインを追加するLoRAモデル](https://civitai.com/models/9101/honkai-impact-3-herrscher-of-truth)</br>\n",
        "・[電撃を放てるようになるLightningVFX](https://civitai.com/models/10222/lightningvfx-create-more-consistent-lightning)</br>\n",
        "などを組み込んでおきました。</br>\n",
        "additional networkをEnableにして、モデルを選んで、weightを決めて、トリガーワードをプロンプトに組み込めば、使えます。</br>\n",
        "コードをいじれば、他のLoRAモデルも導入できると思うので、興味があったら私に連絡するか、自分で頑張ってみてください。</br>\n",
        "weightをどう設定するか迷ったら、とりあえず0.6(～0.8)くらいにしておくと良いよ。</br>\n",
        "</br>\n",
        "※LoRAが配布されているサイト</br>\n",
        "https://civitai.com</br>\n",
        "絞り込めばLoRAだけを見れます。</br>"
      ],
      "metadata": {
        "id": "Hf5_usNCYVAe"
      }
    },
    {
      "cell_type": "markdown",
      "source": [
        "| Loraモデル | トリガーになるプロンプト | 推奨weight |\n",
        "| - | - | - |\n",
        "| [真理の律者](https://civitai.com/models/9101/honkai-impact-3-herrscher-of-truth) | long_hair,drill_hair, breasts, symbol-shaped_pupils, ponytail,very_long_hair,multicolored_hair,</br>bare_shoulders,small_breasts, eyebrows_visible_through_hair, bangs, hair_between_eyes, |  |\n",
        "| [LightningVFX](https://civitai.com/models/10222/lightningvfx-create-more-consistent-lightning) | \\<lora:lightningvfxv1:0.2\\> |  |\n",
        "| [Manhattan Cafe (umamusume)](https://civitai.com/models/7607/manhattan-cafe-umamusume) | manhattan cafe \\(umamusume\\), white ahoge, black long hair</br>Racing competition clothes :black coat, black shirt, black skirt, yellow necktie | 0.5~0.65 |\n",
        "| [Silence Suzuka (umamusume)](https://civitai.com/models/11415/silence-suzuka-umamusume)</br>NOT COMPATIBLE WITH AOM3A2, AOM3A3 model. | silence suzuka \\(umamusume\\)</br>black gloves, white skirt, pleated skirt, black pantyhose, layered sleeves, puffy short sleeves, short over long sleeves, black bow, mismatched footwear, asymmetrical footwear</br>(optional) smile. she is serious when running</br> | 0.7~1.0 |"
      ],
      "metadata": {
        "id": "DHJKpkhd3Lam"
      }
    },
    {
      "cell_type": "markdown",
      "source": [
        "<details>\n",
        "  <summary>R-18のLoRA</summary>\n",
        "\n",
        "  | Loraモデル | トリガーになるプロンプト | 推奨weight |\n",
        "  | - | - | - |\n",
        "  | [Bondage Suspension](https://civitai.com/models/8762/bondage-suspension) | suspension, ball gag, arms behind back |  |\n",
        "  | [Milking machine](https://civitai.com/models/8500/milking-machine) | milking machine, lactation, nipples, leaning forward, |  |\n",
        "  | [Vibrator](https://civitai.com/models/10820/vibrator) | vibrator on nipple, vibrator under clothes, vibrator in thighhighs, vibrator cord, egg vibrator, tape |  |\n",
        "  | [Esthetic Futanari + Trap](https://civitai.com/models/7327/esthetic-futanari-trap-v37) | penis, futanari, otoko no ko, female focus, small penis, large penis (carefully, but work), medium penis|  |\n",
        "  \n",
        "</details>"
      ],
      "metadata": {
        "id": "TdrZBN9nKp6H"
      }
    },
    {
      "cell_type": "markdown",
      "source": [
        "# **便利な設定**</br>\n",
        "自動で設定されるようにプログラムしておきました。</br>\n",
        "</br>\n",
        "~~**settings →Userinterface →Quicksetting list**（下の方にある） に</br>\n",
        "sd_model_checkpoint,sd_vae,CLIP_stop_at_last_layers</br>\n",
        "と書いて、</br>\n",
        "**Apply settings →Reload UI**</br>\n",
        "と押すと、UIの一番からVAEが変えられるようになります。</br>\n",
        "エラーが起きますが、最後の起動コードを停止■させ、再度実行▶すれば大丈夫です。待ち時間も2回目は短いです。</br>\n",
        "Clip Skipはまあ2にしておいて。俺もよくわからない。~~</br>\n",
        "\n",
        "---"
      ],
      "metadata": {
        "id": "FEPfN9Dnyqx1"
      }
    }
  ],
  "metadata": {
    "accelerator": "GPU",
    "colab": {
      "private_outputs": true,
      "provenance": [],
      "collapsed_sections": [
        "e-LVQtC_bmVV",
        "pYN3RbwWiPaQ",
        "aWs71gLH3ZUc",
        "dNAZu_-LcSg4",
        "fAuPoq3eVORW",
        "6Fu3CRkUS_fl",
        "XsgqMJBr_0AT",
        "FEPfN9Dnyqx1"
      ],
      "include_colab_link": true
    },
    "gpuClass": "standard",
    "kernelspec": {
      "display_name": "Python 3",
      "name": "python3"
    },
    "language_info": {
      "name": "python"
    }
  },
  "nbformat": 4,
  "nbformat_minor": 0
}